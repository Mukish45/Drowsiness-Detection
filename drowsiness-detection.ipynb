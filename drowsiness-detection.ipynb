{
 "cells": [
  {
   "cell_type": "code",
   "execution_count": 2,
   "id": "a07e5d35-f68a-4a2d-9b73-7d574530dc83",
   "metadata": {},
   "outputs": [
    {
     "name": "stdout",
     "output_type": "stream",
     "text": [
      "loading Roboflow workspace...\n",
      "loading Roboflow project...\n"
     ]
    },
    {
     "name": "stderr",
     "output_type": "stream",
     "text": [
      "from_roboflow is deprecated: `Detections.from_roboflow` is deprecated and will be removed in `supervision-0.21.0`. Use `Detections.from_inference` instead.\n",
      "2024-03-03 17:33:22.571 Python[45005:1291201] WARNING: Secure coding is automatically enabled for restorable state! However, not on all supported macOS versions of this application. Opt-in to secure coding explicitly by implementing NSApplicationDelegate.applicationSupportsSecureRestorableState:.\n"
     ]
    }
   ],
   "source": [
    "from roboflow import Roboflow\n",
    "import supervision as sv\n",
    "import cv2\n",
    "import pygame\n",
    "\n",
    "rf = Roboflow(api_key=\"\") #Enter your Roboflow API Key\n",
    "project = rf.workspace().project(\"drowsiness-detection-systemv1.1\")\n",
    "model = project.version(2).model\n",
    "\n",
    "labels = model.classes\n",
    "\n",
    "label_annotator = sv.LabelAnnotator()\n",
    "bounding_box_annotator = sv.BoxAnnotator()\n",
    "\n",
    "cap = cv2.VideoCapture(0)\n",
    "\n",
    "pygame.mixer.init()\n",
    "alert_sound = pygame.mixer.Sound(\"warning.mp3\")\n",
    "\n",
    "while True:\n",
    "    ret, frame = cap.read()\n",
    "    if not ret:\n",
    "        break\n",
    "    \n",
    "    result = model.predict(frame, confidence=40, overlap=30).json()\n",
    "    \n",
    "    detections = sv.Detections.from_roboflow(result)\n",
    "    \n",
    "    annotated_frame = bounding_box_annotator.annotate(scene=frame, detections=detections)\n",
    "    annotated_frame = label_annotator.annotate(scene=annotated_frame, detections=detections, labels=labels)\n",
    "    \n",
    "    for prediction in result['predictions']:\n",
    "        if prediction['class'] == 'Drowsy':\n",
    "            alert_sound.play()\n",
    "            break  \n",
    "    \n",
    "    cv2.imshow('Drowsiness Detection', annotated_frame)\n",
    "    \n",
    "    if cv2.waitKey(1) & 0xFF == ord('q'):\n",
    "        break\n",
    "\n",
    "cap.release()\n",
    "cv2.destroyAllWindows()"
   ]
  },
  {
   "cell_type": "code",
   "execution_count": null,
   "id": "d96f87f4-da18-4337-aa9d-222621a3f2fc",
   "metadata": {},
   "outputs": [],
   "source": []
  }
 ],
 "metadata": {
  "kernelspec": {
   "display_name": "Python 3 (ipykernel)",
   "language": "python",
   "name": "python3"
  },
  "language_info": {
   "codemirror_mode": {
    "name": "ipython",
    "version": 3
   },
   "file_extension": ".py",
   "mimetype": "text/x-python",
   "name": "python",
   "nbconvert_exporter": "python",
   "pygments_lexer": "ipython3",
   "version": "3.9.6"
  }
 },
 "nbformat": 4,
 "nbformat_minor": 5
}
